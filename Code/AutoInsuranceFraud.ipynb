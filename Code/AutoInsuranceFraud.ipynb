{
 "cells": [
  {
   "cell_type": "markdown",
   "metadata": {},
   "source": [
    "# Fraud Detection on Amazon SageMaker\n",
    "\n",
    "This notebook shows how to use Amazon Sagemaker Processsing to prepare the data. The source and destionation location of the S3 bucket needs to be changed. Also the ecr_repository_uri will vary depending on the region.\n",
    "\n",
    "First, we process the raw dataset to prepare the features and extract the interactions in the dataset that will be used to construct the graph. \n",
    "\n",
    "Then, we create a launch a training job using the SageMaker framework estimator to train a graph neural network model with DGL."
   ]
  },
  {
   "cell_type": "code",
   "execution_count": 1,
   "metadata": {},
   "outputs": [
    {
     "name": "stdout",
     "output_type": "stream",
     "text": [
      "\u001b[33mWARNING: Running pip as the 'root' user can result in broken permissions and conflicting behaviour with the system package manager. It is recommended to use a virtual environment instead: https://pip.pypa.io/warnings/venv\u001b[0m\n",
      "Obtaining file:///root/sagemaker-graph-fraud-detection/source/sagemaker/sagemaker_graph_fraud_detection\n",
      "Installing collected packages: sagemaker-graph-fraud-detection\n",
      "  Attempting uninstall: sagemaker-graph-fraud-detection\n",
      "    Found existing installation: sagemaker-graph-fraud-detection 1.0\n",
      "    Uninstalling sagemaker-graph-fraud-detection-1.0:\n",
      "      Successfully uninstalled sagemaker-graph-fraud-detection-1.0\n",
      "  Running setup.py develop for sagemaker-graph-fraud-detection\n",
      "Successfully installed sagemaker-graph-fraud-detection-1.0\n",
      "\u001b[33mWARNING: Running pip as the 'root' user can result in broken permissions and conflicting behaviour with the system package manager. It is recommended to use a virtual environment instead: https://pip.pypa.io/warnings/venv\u001b[0m\n"
     ]
    }
   ],
   "source": [
    "!bash setup.sh\n",
    "\n",
    "import sagemaker\n",
    "from sagemaker_graph_fraud_detection import config, container_build\n",
    "\n",
    "role = config.role\n",
    "sess = sagemaker.Session()"
   ]
  },
  {
   "cell_type": "markdown",
   "metadata": {},
   "source": [
    "## Data Preprocessing "
   ]
  },
  {
   "cell_type": "code",
   "execution_count": 3,
   "metadata": {},
   "outputs": [],
   "source": [
    "#container to run the processing\n",
    "ecr_repository_uri = \"683313688378.dkr.ecr.us-east-1.amazonaws.com/sagemaker-scikit-learn:0.23-1-cpu-py3\""
   ]
  },
  {
   "cell_type": "markdown",
   "metadata": {},
   "source": [
    "### Run Preprocessing job with Amazon SageMaker Processing\n",
    "\n",
    "The script we have defined at `AutoInsuranceFraudProcessing.py` performs data preprocessing transformations on the raw data. The preproceesing involes replacing values, droping rows, dropping columns and categorical encoding\n",
    "\n",
    "Change the S3 locations of the source and destination"
   ]
  },
  {
   "cell_type": "code",
   "execution_count": 7,
   "metadata": {},
   "outputs": [
    {
     "name": "stderr",
     "output_type": "stream",
     "text": [
      "Parameter 'session' will be renamed to 'sagemaker_session' in SageMaker Python SDK v2.\n"
     ]
    },
    {
     "name": "stdout",
     "output_type": "stream",
     "text": [
      "\n",
      "Job Name:  sagemaker-scikit-learn-2021-09-08-05-43-24-577\n",
      "Inputs:  [{'InputName': 'input-1', 'S3Input': {'S3Uri': 's3://sagemaker-us-east-1-367858208265/AutoInsuranceFraud/insurance_claims.csv', 'LocalPath': '/opt/ml/processing/input', 'S3DataType': 'S3Prefix', 'S3InputMode': 'File', 'S3DataDistributionType': 'FullyReplicated', 'S3CompressionType': 'None'}}, {'InputName': 'code', 'S3Input': {'S3Uri': 's3://sagemaker-us-east-1-367858208265/sagemaker-scikit-learn-2021-09-08-05-43-24-577/input/code/AutoInsuranceFraudProcessing.py', 'LocalPath': '/opt/ml/processing/input/code', 'S3DataType': 'S3Prefix', 'S3InputMode': 'File', 'S3DataDistributionType': 'FullyReplicated', 'S3CompressionType': 'None'}}]\n",
      "Outputs:  [{'OutputName': 'preprocessed_data.csv', 'S3Output': {'S3Uri': 's3://sagemaker-us-east-1-367858208265/AutoInsuranceFraud/Results/DataProcessing', 'LocalPath': '/opt/ml/processing/output', 'S3UploadMode': 'EndOfJob'}}]\n",
      "...........................\u001b[34mReceived arguments Namespace()\u001b[0m\n",
      "\u001b[34mReading input data from /opt/ml/processing/input/insurance_claims.csv\n",
      "   months_as_customer  age  policy_number  ... auto_model auto_year fraud_reported\u001b[0m\n",
      "\u001b[34m0                 328   48         521585  ...        92x      2004              Y\u001b[0m\n",
      "\u001b[34m1                 228   42         342868  ...       E400      2007              Y\u001b[0m\n",
      "\u001b[34m2                 134   29         687698  ...        RAM      2007              N\u001b[0m\n",
      "\u001b[34m3                 256   41         227811  ...      Tahoe      2014              Y\u001b[0m\n",
      "\u001b[34m4                 228   44         367455  ...        RSX      2009              N\n",
      "\u001b[0m\n",
      "\u001b[34m[5 rows x 39 columns]\u001b[0m\n",
      "\u001b[34m0      YES\u001b[0m\n",
      "\u001b[34m1         \u001b[0m\n",
      "\u001b[34m2       NO\u001b[0m\n",
      "\u001b[34m3         \u001b[0m\n",
      "\u001b[34m4       NO\n",
      "      ... \u001b[0m\n",
      "\u001b[34m995    YES\u001b[0m\n",
      "\u001b[34m996    YES\u001b[0m\n",
      "\u001b[34m997       \u001b[0m\n",
      "\u001b[34m998       \u001b[0m\n",
      "\u001b[34m999       \u001b[0m\n",
      "\u001b[34mName: property_damage, Length: 1000, dtype: object\n",
      "   age  policy_state  ...  auto_make  fraud_reported\u001b[0m\n",
      "\u001b[34m0   48             2  ...         10               1\u001b[0m\n",
      "\u001b[34m1   42             1  ...          8               1\u001b[0m\n",
      "\u001b[34m2   29             2  ...          4               0\u001b[0m\n",
      "\u001b[34m3   41             0  ...          3               1\u001b[0m\n",
      "\u001b[34m4   44             0  ...          0               0\n",
      "\u001b[0m\n",
      "\u001b[34m[5 rows x 31 columns]\u001b[0m\n",
      "\u001b[34mdone\u001b[0m\n",
      "\n"
     ]
    }
   ],
   "source": [
    "from sagemaker.processing import ScriptProcessor, ProcessingInput, ProcessingOutput\n",
    "\n",
    "script_processor = ScriptProcessor(command=['python3'],\n",
    "                                   image_uri=ecr_repository_uri,\n",
    "                                   role=role,\n",
    "                                   instance_count=1,\n",
    "                                   instance_type='ml.m4.2xlarge')\n",
    "\n",
    "script_processor.run(code='AutoInsuranceFraudProcessing.py',\n",
    "                     inputs=[ProcessingInput(source='s3://sagemaker-us-east-1-367858208265/AutoInsuranceFraud/insurance_claims.csv',\n",
    "                                             destination='/opt/ml/processing/input')],\n",
    "                     outputs=[ProcessingOutput(output_name=\"preprocessed_data.csv\", destination='s3://sagemaker-us-east-1-367858208265/AutoInsuranceFraud/Results/DataProcessing',\n",
    "                                               source='/opt/ml/processing/output')])\n",
    "\n"
   ]
  },
  {
   "cell_type": "markdown",
   "metadata": {},
   "source": [
    "### View Results of Data Preprocessing\n",
    "\n",
    "Once the preprocessing job is complete, we can take a look at the contents of the S3 bucket to see the transformed data."
   ]
  },
  {
   "cell_type": "code",
   "execution_count": 8,
   "metadata": {},
   "outputs": [
    {
     "name": "stdout",
     "output_type": "stream",
     "text": [
      "{'OutputName': 'preprocessed_data.csv', 'S3Output': {'S3Uri': 's3://sagemaker-us-east-1-367858208265/AutoInsuranceFraud/Results/DataProcessing', 'LocalPath': '/opt/ml/processing/output', 'S3UploadMode': 'EndOfJob'}, 'AppManaged': False}\n",
      "s3://sagemaker-us-east-1-367858208265/AutoInsuranceFraud/Results/DataProcessing\n"
     ]
    }
   ],
   "source": [
    "preprocessing_job_description = script_processor.jobs[-1].describe()\n",
    "\n",
    "output_config = preprocessing_job_description[\"ProcessingOutputConfig\"]\n",
    "for output in output_config[\"Outputs\"]:\n",
    "    print(output)\n",
    "    preprocessed_training_data = output[\"S3Output\"][\"S3Uri\"]\n",
    "    print(preprocessed_training_data)\n"
   ]
  },
  {
   "cell_type": "markdown",
   "metadata": {},
   "source": [
    "Once the training is completed, the training instances are automatically saved and SageMaker stores the trained model and evaluation results to a location in S3."
   ]
  }
 ],
 "metadata": {
  "instance_type": "ml.t3.medium",
  "kernelspec": {
   "display_name": "Python 3 (Base Python)",
   "language": "python",
   "name": "python3__SAGEMAKER_INTERNAL__arn:aws:sagemaker:us-east-1:081325390199:image/python-3.6"
  },
  "language_info": {
   "codemirror_mode": {
    "name": "ipython",
    "version": 3
   },
   "file_extension": ".py",
   "mimetype": "text/x-python",
   "name": "python",
   "nbconvert_exporter": "python",
   "pygments_lexer": "ipython3",
   "version": "3.6.13"
  }
 },
 "nbformat": 4,
 "nbformat_minor": 4
}
